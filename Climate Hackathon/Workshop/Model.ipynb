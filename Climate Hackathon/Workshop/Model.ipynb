{
 "cells": [
  {
   "cell_type": "markdown",
   "metadata": {},
   "source": [
    "## A Simple Model\n",
    "\n",
    "This notebook will walk you through how to create a basic linear regression. \n",
    "\n",
    "I would note this model is not accurate for a number or reasons (small data set, few features, etc.), but is a good example of what you would do if there was better data. "
   ]
  },
  {
   "cell_type": "markdown",
   "metadata": {},
   "source": [
    "### 1. Import Modules and data"
   ]
  },
  {
   "cell_type": "code",
   "execution_count": 30,
   "metadata": {},
   "outputs": [],
   "source": [
    "import pandas as pd\n",
    "import numpy as np\n",
    "import os\n",
    "import seaborn as sns\n",
    "import matplotlib.pyplot as plt"
   ]
  },
  {
   "cell_type": "code",
   "execution_count": 31,
   "metadata": {},
   "outputs": [],
   "source": [
    "file_dir = os.path.join(\"..\",\"Datasets\")\n",
    "df = pd.read_csv(os.path.join(file_dir,\"EU_Total_Losses_80-15.csv\"))"
   ]
  },
  {
   "cell_type": "code",
   "execution_count": 32,
   "metadata": {},
   "outputs": [
    {
     "data": {
      "text/html": [
       "<div>\n",
       "<style scoped>\n",
       "    .dataframe tbody tr th:only-of-type {\n",
       "        vertical-align: middle;\n",
       "    }\n",
       "\n",
       "    .dataframe tbody tr th {\n",
       "        vertical-align: top;\n",
       "    }\n",
       "\n",
       "    .dataframe thead th {\n",
       "        text-align: right;\n",
       "    }\n",
       "</style>\n",
       "<table border=\"1\" class=\"dataframe\">\n",
       "  <thead>\n",
       "    <tr style=\"text-align: right;\">\n",
       "      <th></th>\n",
       "      <th>Year</th>\n",
       "      <th>clim_losses</th>\n",
       "      <th>met_losses</th>\n",
       "      <th>total_losses</th>\n",
       "      <th>water_losses</th>\n",
       "    </tr>\n",
       "  </thead>\n",
       "  <tbody>\n",
       "    <tr>\n",
       "      <th>0</th>\n",
       "      <td>1980</td>\n",
       "      <td>3170.0</td>\n",
       "      <td>158.0</td>\n",
       "      <td>3414.0</td>\n",
       "      <td>86.0</td>\n",
       "    </tr>\n",
       "    <tr>\n",
       "      <th>1</th>\n",
       "      <td>1981</td>\n",
       "      <td>2.0</td>\n",
       "      <td>1919.0</td>\n",
       "      <td>2277.0</td>\n",
       "      <td>356.0</td>\n",
       "    </tr>\n",
       "    <tr>\n",
       "      <th>2</th>\n",
       "      <td>1982</td>\n",
       "      <td>7026.0</td>\n",
       "      <td>2452.0</td>\n",
       "      <td>14331.0</td>\n",
       "      <td>4853.0</td>\n",
       "    </tr>\n",
       "    <tr>\n",
       "      <th>3</th>\n",
       "      <td>1983</td>\n",
       "      <td>4149.0</td>\n",
       "      <td>708.0</td>\n",
       "      <td>11026.0</td>\n",
       "      <td>6169.0</td>\n",
       "    </tr>\n",
       "    <tr>\n",
       "      <th>4</th>\n",
       "      <td>1984</td>\n",
       "      <td>2.0</td>\n",
       "      <td>4346.0</td>\n",
       "      <td>4690.0</td>\n",
       "      <td>342.0</td>\n",
       "    </tr>\n",
       "  </tbody>\n",
       "</table>\n",
       "</div>"
      ],
      "text/plain": [
       "   Year  clim_losses  met_losses  total_losses  water_losses\n",
       "0  1980       3170.0       158.0        3414.0          86.0\n",
       "1  1981          2.0      1919.0        2277.0         356.0\n",
       "2  1982       7026.0      2452.0       14331.0        4853.0\n",
       "3  1983       4149.0       708.0       11026.0        6169.0\n",
       "4  1984          2.0      4346.0        4690.0         342.0"
      ]
     },
     "execution_count": 32,
     "metadata": {},
     "output_type": "execute_result"
    }
   ],
   "source": [
    "df.head()"
   ]
  },
  {
   "cell_type": "code",
   "execution_count": 33,
   "metadata": {},
   "outputs": [
    {
     "data": {
      "text/plain": [
       "Year              int64\n",
       "clim_losses     float64\n",
       "met_losses      float64\n",
       "total_losses    float64\n",
       "water_losses    float64\n",
       "dtype: object"
      ]
     },
     "execution_count": 33,
     "metadata": {},
     "output_type": "execute_result"
    }
   ],
   "source": [
    "df.dtypes"
   ]
  },
  {
   "cell_type": "code",
   "execution_count": 34,
   "metadata": {},
   "outputs": [],
   "source": [
    "temps = pd.read_csv(os.path.join(file_dir,\"GlobalTemps.csv\"))"
   ]
  },
  {
   "cell_type": "code",
   "execution_count": 35,
   "metadata": {},
   "outputs": [],
   "source": [
    "temps = temps.drop(\"Unnamed: 0\",axis = 1)"
   ]
  },
  {
   "cell_type": "code",
   "execution_count": 36,
   "metadata": {},
   "outputs": [
    {
     "data": {
      "text/html": [
       "<div>\n",
       "<style scoped>\n",
       "    .dataframe tbody tr th:only-of-type {\n",
       "        vertical-align: middle;\n",
       "    }\n",
       "\n",
       "    .dataframe tbody tr th {\n",
       "        vertical-align: top;\n",
       "    }\n",
       "\n",
       "    .dataframe thead th {\n",
       "        text-align: right;\n",
       "    }\n",
       "</style>\n",
       "<table border=\"1\" class=\"dataframe\">\n",
       "  <thead>\n",
       "    <tr style=\"text-align: right;\">\n",
       "      <th></th>\n",
       "      <th>indic</th>\n",
       "      <th>source</th>\n",
       "      <th>unit</th>\n",
       "      <th>Year</th>\n",
       "      <th>Value</th>\n",
       "    </tr>\n",
       "  </thead>\n",
       "  <tbody>\n",
       "    <tr>\n",
       "      <th>0</th>\n",
       "      <td>TD_EUR</td>\n",
       "      <td>GISTEMP</td>\n",
       "      <td>DEGC</td>\n",
       "      <td>2017</td>\n",
       "      <td>1.74</td>\n",
       "    </tr>\n",
       "    <tr>\n",
       "      <th>1</th>\n",
       "      <td>TD_EUR</td>\n",
       "      <td>HADCRUT4</td>\n",
       "      <td>DEGC</td>\n",
       "      <td>2017</td>\n",
       "      <td>1.73</td>\n",
       "    </tr>\n",
       "    <tr>\n",
       "      <th>2</th>\n",
       "      <td>TD_EUR</td>\n",
       "      <td>NOAAGLOBALTEMP</td>\n",
       "      <td>DEGC</td>\n",
       "      <td>2017</td>\n",
       "      <td>1.73</td>\n",
       "    </tr>\n",
       "    <tr>\n",
       "      <th>3</th>\n",
       "      <td>TD_GLB</td>\n",
       "      <td>GISTEMP</td>\n",
       "      <td>DEGC</td>\n",
       "      <td>2017</td>\n",
       "      <td>1.12</td>\n",
       "    </tr>\n",
       "    <tr>\n",
       "      <th>4</th>\n",
       "      <td>TD_GLB</td>\n",
       "      <td>HADCRUT4</td>\n",
       "      <td>DEGC</td>\n",
       "      <td>2017</td>\n",
       "      <td>0.99</td>\n",
       "    </tr>\n",
       "  </tbody>\n",
       "</table>\n",
       "</div>"
      ],
      "text/plain": [
       "    indic          source  unit  Year  Value\n",
       "0  TD_EUR         GISTEMP  DEGC  2017   1.74\n",
       "1  TD_EUR        HADCRUT4  DEGC  2017   1.73\n",
       "2  TD_EUR  NOAAGLOBALTEMP  DEGC  2017   1.73\n",
       "3  TD_GLB         GISTEMP  DEGC  2017   1.12\n",
       "4  TD_GLB        HADCRUT4  DEGC  2017   0.99"
      ]
     },
     "execution_count": 36,
     "metadata": {},
     "output_type": "execute_result"
    }
   ],
   "source": [
    "temps.head()"
   ]
  },
  {
   "cell_type": "code",
   "execution_count": 37,
   "metadata": {},
   "outputs": [
    {
     "data": {
      "text/plain": [
       "TD_EUR    93\n",
       "TD_GLB    93\n",
       "Name: indic, dtype: int64"
      ]
     },
     "execution_count": 37,
     "metadata": {},
     "output_type": "execute_result"
    }
   ],
   "source": [
    "temps.indic.value_counts()"
   ]
  },
  {
   "cell_type": "markdown",
   "metadata": {},
   "source": [
    "Let's just consider EU temps"
   ]
  },
  {
   "cell_type": "code",
   "execution_count": 38,
   "metadata": {},
   "outputs": [],
   "source": [
    "eu_temp= temps[temps['indic']=='TD_EUR']"
   ]
  },
  {
   "cell_type": "code",
   "execution_count": 39,
   "metadata": {},
   "outputs": [
    {
     "data": {
      "text/plain": [
       "HADCRUT4          33\n",
       "NOAAGLOBALTEMP    30\n",
       "GISTEMP           30\n",
       "Name: source, dtype: int64"
      ]
     },
     "execution_count": 39,
     "metadata": {},
     "output_type": "execute_result"
    }
   ],
   "source": [
    "eu_temp['source'].value_counts()"
   ]
  },
  {
   "cell_type": "markdown",
   "metadata": {},
   "source": [
    "Let's only look at one measurement source for simplicity. "
   ]
  },
  {
   "cell_type": "code",
   "execution_count": 40,
   "metadata": {},
   "outputs": [],
   "source": [
    "eu_temp = eu_temp[eu_temp['source']=='HADCRUT4']"
   ]
  },
  {
   "cell_type": "code",
   "execution_count": 41,
   "metadata": {},
   "outputs": [
    {
     "data": {
      "text/html": [
       "<div>\n",
       "<style scoped>\n",
       "    .dataframe tbody tr th:only-of-type {\n",
       "        vertical-align: middle;\n",
       "    }\n",
       "\n",
       "    .dataframe tbody tr th {\n",
       "        vertical-align: top;\n",
       "    }\n",
       "\n",
       "    .dataframe thead th {\n",
       "        text-align: right;\n",
       "    }\n",
       "</style>\n",
       "<table border=\"1\" class=\"dataframe\">\n",
       "  <thead>\n",
       "    <tr style=\"text-align: right;\">\n",
       "      <th></th>\n",
       "      <th>indic</th>\n",
       "      <th>source</th>\n",
       "      <th>unit</th>\n",
       "      <th>Year</th>\n",
       "      <th>Value</th>\n",
       "    </tr>\n",
       "  </thead>\n",
       "  <tbody>\n",
       "    <tr>\n",
       "      <th>1</th>\n",
       "      <td>TD_EUR</td>\n",
       "      <td>HADCRUT4</td>\n",
       "      <td>DEGC</td>\n",
       "      <td>2017</td>\n",
       "      <td>1.73</td>\n",
       "    </tr>\n",
       "    <tr>\n",
       "      <th>7</th>\n",
       "      <td>TD_EUR</td>\n",
       "      <td>HADCRUT4</td>\n",
       "      <td>DEGC</td>\n",
       "      <td>2016</td>\n",
       "      <td>1.86</td>\n",
       "    </tr>\n",
       "    <tr>\n",
       "      <th>13</th>\n",
       "      <td>TD_EUR</td>\n",
       "      <td>HADCRUT4</td>\n",
       "      <td>DEGC</td>\n",
       "      <td>2015</td>\n",
       "      <td>1.88</td>\n",
       "    </tr>\n",
       "    <tr>\n",
       "      <th>19</th>\n",
       "      <td>TD_EUR</td>\n",
       "      <td>HADCRUT4</td>\n",
       "      <td>DEGC</td>\n",
       "      <td>2014</td>\n",
       "      <td>2.20</td>\n",
       "    </tr>\n",
       "    <tr>\n",
       "      <th>25</th>\n",
       "      <td>TD_EUR</td>\n",
       "      <td>HADCRUT4</td>\n",
       "      <td>DEGC</td>\n",
       "      <td>2013</td>\n",
       "      <td>1.41</td>\n",
       "    </tr>\n",
       "  </tbody>\n",
       "</table>\n",
       "</div>"
      ],
      "text/plain": [
       "     indic    source  unit  Year  Value\n",
       "1   TD_EUR  HADCRUT4  DEGC  2017   1.73\n",
       "7   TD_EUR  HADCRUT4  DEGC  2016   1.86\n",
       "13  TD_EUR  HADCRUT4  DEGC  2015   1.88\n",
       "19  TD_EUR  HADCRUT4  DEGC  2014   2.20\n",
       "25  TD_EUR  HADCRUT4  DEGC  2013   1.41"
      ]
     },
     "execution_count": 41,
     "metadata": {},
     "output_type": "execute_result"
    }
   ],
   "source": [
    "eu_temp.head()"
   ]
  },
  {
   "cell_type": "code",
   "execution_count": 42,
   "metadata": {},
   "outputs": [
    {
     "data": {
      "text/plain": [
       "indic      object\n",
       "source     object\n",
       "unit       object\n",
       "Year        int64\n",
       "Value     float64\n",
       "dtype: object"
      ]
     },
     "execution_count": 42,
     "metadata": {},
     "output_type": "execute_result"
    }
   ],
   "source": [
    "eu_temp.dtypes"
   ]
  },
  {
   "cell_type": "markdown",
   "metadata": {},
   "source": [
    "Merge our datasets on 'Year'"
   ]
  },
  {
   "cell_type": "code",
   "execution_count": 43,
   "metadata": {},
   "outputs": [],
   "source": [
    "together = df.merge(eu_temp[['Year','Value']],on='Year')"
   ]
  },
  {
   "cell_type": "code",
   "execution_count": 44,
   "metadata": {},
   "outputs": [
    {
     "data": {
      "text/html": [
       "<div>\n",
       "<style scoped>\n",
       "    .dataframe tbody tr th:only-of-type {\n",
       "        vertical-align: middle;\n",
       "    }\n",
       "\n",
       "    .dataframe tbody tr th {\n",
       "        vertical-align: top;\n",
       "    }\n",
       "\n",
       "    .dataframe thead th {\n",
       "        text-align: right;\n",
       "    }\n",
       "</style>\n",
       "<table border=\"1\" class=\"dataframe\">\n",
       "  <thead>\n",
       "    <tr style=\"text-align: right;\">\n",
       "      <th></th>\n",
       "      <th>Year</th>\n",
       "      <th>clim_losses</th>\n",
       "      <th>met_losses</th>\n",
       "      <th>total_losses</th>\n",
       "      <th>water_losses</th>\n",
       "      <th>Value</th>\n",
       "    </tr>\n",
       "  </thead>\n",
       "  <tbody>\n",
       "    <tr>\n",
       "      <th>0</th>\n",
       "      <td>1980</td>\n",
       "      <td>3170.0</td>\n",
       "      <td>158.0</td>\n",
       "      <td>3414.0</td>\n",
       "      <td>86.0</td>\n",
       "      <td>0.10</td>\n",
       "    </tr>\n",
       "    <tr>\n",
       "      <th>1</th>\n",
       "      <td>1990</td>\n",
       "      <td>4185.0</td>\n",
       "      <td>20880.0</td>\n",
       "      <td>26727.0</td>\n",
       "      <td>1662.0</td>\n",
       "      <td>1.39</td>\n",
       "    </tr>\n",
       "    <tr>\n",
       "      <th>2</th>\n",
       "      <td>2000</td>\n",
       "      <td>2449.0</td>\n",
       "      <td>1735.0</td>\n",
       "      <td>20529.0</td>\n",
       "      <td>16345.0</td>\n",
       "      <td>1.53</td>\n",
       "    </tr>\n",
       "    <tr>\n",
       "      <th>3</th>\n",
       "      <td>2001</td>\n",
       "      <td>495.0</td>\n",
       "      <td>2026.0</td>\n",
       "      <td>3834.0</td>\n",
       "      <td>1313.0</td>\n",
       "      <td>1.29</td>\n",
       "    </tr>\n",
       "    <tr>\n",
       "      <th>4</th>\n",
       "      <td>2002</td>\n",
       "      <td>2.0</td>\n",
       "      <td>5411.0</td>\n",
       "      <td>29404.0</td>\n",
       "      <td>23991.0</td>\n",
       "      <td>1.53</td>\n",
       "    </tr>\n",
       "  </tbody>\n",
       "</table>\n",
       "</div>"
      ],
      "text/plain": [
       "   Year  clim_losses  met_losses  total_losses  water_losses  Value\n",
       "0  1980       3170.0       158.0        3414.0          86.0   0.10\n",
       "1  1990       4185.0     20880.0       26727.0        1662.0   1.39\n",
       "2  2000       2449.0      1735.0       20529.0       16345.0   1.53\n",
       "3  2001        495.0      2026.0        3834.0        1313.0   1.29\n",
       "4  2002          2.0      5411.0       29404.0       23991.0   1.53"
      ]
     },
     "execution_count": 44,
     "metadata": {},
     "output_type": "execute_result"
    }
   ],
   "source": [
    "together.head()"
   ]
  },
  {
   "cell_type": "markdown",
   "metadata": {},
   "source": [
    "Rename the 'Value' column to make it easier to understand what the data is. "
   ]
  },
  {
   "cell_type": "code",
   "execution_count": 45,
   "metadata": {},
   "outputs": [],
   "source": [
    "together = together.rename(columns = {'Value':'Deg-C'})"
   ]
  },
  {
   "cell_type": "markdown",
   "metadata": {},
   "source": [
    "### 2. Look for correlations or patterns in the data"
   ]
  },
  {
   "cell_type": "code",
   "execution_count": 46,
   "metadata": {},
   "outputs": [
    {
     "data": {
      "image/png": "[encoded data removed]",
      "text/plain": [
       "<Figure size 432x288 with 2 Axes>"
      ]
     },
     "metadata": {
      "needs_background": "light"
     },
     "output_type": "display_data"
    }
   ],
   "source": [
    "ax = together.plot(x = 'Year',y = 'Deg-C',legend = False)\n",
    "ax2 = ax.twinx()\n",
    "together.plot(x = 'Year',y = 'total_losses',ax = ax2,legend = False,color = 'r')\n",
    "ax.figure.legend()\n",
    "plt.title(\"Temp Deviation and Econ Losses\")\n",
    "plt.show()"
   ]
  },
  {
   "cell_type": "code",
   "execution_count": 47,
   "metadata": {},
   "outputs": [
    {
     "data": {
      "image/png": "[encoded data removed]",
      "text/plain": [
       "<Figure size 432x288 with 2 Axes>"
      ]
     },
     "metadata": {
      "needs_background": "light"
     },
     "output_type": "display_data"
    }
   ],
   "source": [
    "ax = together.plot(x = 'Year',y = 'Deg-C',legend = False)\n",
    "ax2 = ax.twinx()\n",
    "together.plot(x = 'Year',y = 'clim_losses',ax = ax2,legend = False,color = 'r')\n",
    "ax.figure.legend()\n",
    "plt.title(\"Temp Deviation and Climate Losses\")\n",
    "plt.show()"
   ]
  },
  {
   "cell_type": "code",
   "execution_count": 48,
   "metadata": {},
   "outputs": [
    {
     "data": {
      "image/png": "[encoded data removed]",
      "text/plain": [
       "<Figure size 432x288 with 2 Axes>"
      ]
     },
     "metadata": {
      "needs_background": "light"
     },
     "output_type": "display_data"
    }
   ],
   "source": [
    "ax = together.plot(x = 'Year',y = 'Deg-C',legend = False)\n",
    "ax2 = ax.twinx()\n",
    "together.plot(x = 'Year',y = 'met_losses',ax = ax2,legend = False,color = 'r')\n",
    "ax.figure.legend()\n",
    "plt.title(\"Temp Deviation and Met Losses\")\n",
    "plt.show()"
   ]
  },
  {
   "cell_type": "code",
   "execution_count": 49,
   "metadata": {},
   "outputs": [
    {
     "data": {
      "image/png": "[encoded data removed]",
      "text/plain": [
       "<Figure size 432x288 with 2 Axes>"
      ]
     },
     "metadata": {
      "needs_background": "light"
     },
     "output_type": "display_data"
    }
   ],
   "source": [
    "ax = together.plot(x = 'Year',y = 'Deg-C',legend = False)\n",
    "ax2 = ax.twinx()\n",
    "together.plot(x = 'Year',y = 'water_losses',ax = ax2,legend = False,color = 'r')\n",
    "ax.figure.legend()\n",
    "plt.title(\"Temp Deviation and Water Losses\")\n",
    "plt.show()"
   ]
  },
  {
   "cell_type": "code",
   "execution_count": 50,
   "metadata": {
    "scrolled": true
   },
   "outputs": [
    {
     "data": {
      "text/plain": [
       "<matplotlib.axes._subplots.AxesSubplot at 0x7ff54e76fdd8>"
      ]
     },
     "execution_count": 50,
     "metadata": {},
     "output_type": "execute_result"
    },
    {
     "data": {
      "image/png": "[encoded data removed]",
      "text/plain": [
       "<Figure size 432x288 with 1 Axes>"
      ]
     },
     "metadata": {
      "needs_background": "light"
     },
     "output_type": "display_data"
    }
   ],
   "source": [
    "sns.regplot(data = together, x = 'Deg-C',y = 'clim_losses')"
   ]
  },
  {
   "cell_type": "code",
   "execution_count": 51,
   "metadata": {},
   "outputs": [],
   "source": [
    "#Take out outlier...\n",
    "together = together[together['clim_losses']<15000]"
   ]
  },
  {
   "cell_type": "code",
   "execution_count": 52,
   "metadata": {
    "scrolled": true
   },
   "outputs": [
    {
     "data": {
      "text/plain": [
       "<matplotlib.axes._subplots.AxesSubplot at 0x7ff54e70d550>"
      ]
     },
     "execution_count": 52,
     "metadata": {},
     "output_type": "execute_result"
    },
    {
     "data": {
      "image/png": "[encoded data removed]",
      "text/plain": [
       "<Figure size 432x288 with 1 Axes>"
      ]
     },
     "metadata": {
      "needs_background": "light"
     },
     "output_type": "display_data"
    }
   ],
   "source": [
    "sns.regplot(data = together, x = 'Deg-C',y = 'clim_losses')"
   ]
  },
  {
   "cell_type": "markdown",
   "metadata": {},
   "source": [
    "Often it is beneficial to take the log of certain features to better fit a linear model. Our Climate loss data is a good candidate for this as it's scale is arguable more logarithmic than linear. By transforming it we can apply a linear regression model"
   ]
  },
  {
   "cell_type": "code",
   "execution_count": 53,
   "metadata": {},
   "outputs": [],
   "source": [
    "together['log_clim_losses']= together['clim_losses'].apply(np.log)"
   ]
  },
  {
   "cell_type": "code",
   "execution_count": 54,
   "metadata": {
    "scrolled": true
   },
   "outputs": [
    {
     "data": {
      "text/plain": [
       "<matplotlib.axes._subplots.AxesSubplot at 0x7ff54e7ec780>"
      ]
     },
     "execution_count": 54,
     "metadata": {},
     "output_type": "execute_result"
    },
    {
     "data": {
      "image/png": "[encoded data removed]",
      "text/plain": [
       "<Figure size 432x288 with 1 Axes>"
      ]
     },
     "metadata": {
      "needs_background": "light"
     },
     "output_type": "display_data"
    }
   ],
   "source": [
    "sns.regplot(data = together, x = 'Deg-C',y = 'log_clim_losses')"
   ]
  },
  {
   "cell_type": "code",
   "execution_count": 55,
   "metadata": {},
   "outputs": [],
   "source": [
    "#More outliers appear..let's remove them\n",
    "together = together[together['clim_losses']>2]"
   ]
  },
  {
   "cell_type": "code",
   "execution_count": 56,
   "metadata": {},
   "outputs": [],
   "source": [
    "from sklearn import linear_model\n",
    "from sklearn.metrics import mean_squared_error, r2_score\n",
    "from sklearn.model_selection import train_test_split"
   ]
  },
  {
   "cell_type": "code",
   "execution_count": 57,
   "metadata": {},
   "outputs": [
    {
     "data": {
      "text/plain": [
       "(16, 7)"
      ]
     },
     "execution_count": 57,
     "metadata": {},
     "output_type": "execute_result"
    }
   ],
   "source": [
    "together.shape"
   ]
  },
  {
   "cell_type": "code",
   "execution_count": 58,
   "metadata": {},
   "outputs": [
    {
     "data": {
      "text/html": [
       "<div>\n",
       "<style scoped>\n",
       "    .dataframe tbody tr th:only-of-type {\n",
       "        vertical-align: middle;\n",
       "    }\n",
       "\n",
       "    .dataframe tbody tr th {\n",
       "        vertical-align: top;\n",
       "    }\n",
       "\n",
       "    .dataframe thead th {\n",
       "        text-align: right;\n",
       "    }\n",
       "</style>\n",
       "<table border=\"1\" class=\"dataframe\">\n",
       "  <thead>\n",
       "    <tr style=\"text-align: right;\">\n",
       "      <th></th>\n",
       "      <th>Deg-C</th>\n",
       "      <th>clim_losses</th>\n",
       "      <th>log_clim_losses</th>\n",
       "    </tr>\n",
       "  </thead>\n",
       "  <tbody>\n",
       "    <tr>\n",
       "      <th>0</th>\n",
       "      <td>0.10</td>\n",
       "      <td>3170.0</td>\n",
       "      <td>8.061487</td>\n",
       "    </tr>\n",
       "    <tr>\n",
       "      <th>1</th>\n",
       "      <td>1.39</td>\n",
       "      <td>4185.0</td>\n",
       "      <td>8.339262</td>\n",
       "    </tr>\n",
       "    <tr>\n",
       "      <th>2</th>\n",
       "      <td>1.53</td>\n",
       "      <td>2449.0</td>\n",
       "      <td>7.803435</td>\n",
       "    </tr>\n",
       "    <tr>\n",
       "      <th>3</th>\n",
       "      <td>1.29</td>\n",
       "      <td>495.0</td>\n",
       "      <td>6.204558</td>\n",
       "    </tr>\n",
       "    <tr>\n",
       "      <th>7</th>\n",
       "      <td>1.18</td>\n",
       "      <td>3511.0</td>\n",
       "      <td>8.163656</td>\n",
       "    </tr>\n",
       "    <tr>\n",
       "      <th>8</th>\n",
       "      <td>1.57</td>\n",
       "      <td>2616.0</td>\n",
       "      <td>7.869402</td>\n",
       "    </tr>\n",
       "    <tr>\n",
       "      <th>9</th>\n",
       "      <td>1.64</td>\n",
       "      <td>2444.0</td>\n",
       "      <td>7.801391</td>\n",
       "    </tr>\n",
       "    <tr>\n",
       "      <th>10</th>\n",
       "      <td>1.56</td>\n",
       "      <td>34.0</td>\n",
       "      <td>3.526361</td>\n",
       "    </tr>\n",
       "    <tr>\n",
       "      <th>11</th>\n",
       "      <td>1.49</td>\n",
       "      <td>1775.0</td>\n",
       "      <td>7.481556</td>\n",
       "    </tr>\n",
       "    <tr>\n",
       "      <th>12</th>\n",
       "      <td>1.07</td>\n",
       "      <td>4674.0</td>\n",
       "      <td>8.449771</td>\n",
       "    </tr>\n",
       "    <tr>\n",
       "      <th>13</th>\n",
       "      <td>1.56</td>\n",
       "      <td>533.0</td>\n",
       "      <td>6.278521</td>\n",
       "    </tr>\n",
       "    <tr>\n",
       "      <th>14</th>\n",
       "      <td>1.38</td>\n",
       "      <td>3468.0</td>\n",
       "      <td>8.151333</td>\n",
       "    </tr>\n",
       "    <tr>\n",
       "      <th>15</th>\n",
       "      <td>1.41</td>\n",
       "      <td>730.0</td>\n",
       "      <td>6.593045</td>\n",
       "    </tr>\n",
       "    <tr>\n",
       "      <th>16</th>\n",
       "      <td>2.20</td>\n",
       "      <td>789.0</td>\n",
       "      <td>6.670766</td>\n",
       "    </tr>\n",
       "    <tr>\n",
       "      <th>17</th>\n",
       "      <td>1.88</td>\n",
       "      <td>2116.0</td>\n",
       "      <td>7.657283</td>\n",
       "    </tr>\n",
       "    <tr>\n",
       "      <th>18</th>\n",
       "      <td>1.86</td>\n",
       "      <td>681.0</td>\n",
       "      <td>6.523562</td>\n",
       "    </tr>\n",
       "  </tbody>\n",
       "</table>\n",
       "</div>"
      ],
      "text/plain": [
       "    Deg-C  clim_losses  log_clim_losses\n",
       "0    0.10       3170.0         8.061487\n",
       "1    1.39       4185.0         8.339262\n",
       "2    1.53       2449.0         7.803435\n",
       "3    1.29        495.0         6.204558\n",
       "7    1.18       3511.0         8.163656\n",
       "8    1.57       2616.0         7.869402\n",
       "9    1.64       2444.0         7.801391\n",
       "10   1.56         34.0         3.526361\n",
       "11   1.49       1775.0         7.481556\n",
       "12   1.07       4674.0         8.449771\n",
       "13   1.56        533.0         6.278521\n",
       "14   1.38       3468.0         8.151333\n",
       "15   1.41        730.0         6.593045\n",
       "16   2.20        789.0         6.670766\n",
       "17   1.88       2116.0         7.657283\n",
       "18   1.86        681.0         6.523562"
      ]
     },
     "execution_count": 58,
     "metadata": {},
     "output_type": "execute_result"
    }
   ],
   "source": [
    "together[['Deg-C','clim_losses','log_clim_losses']]"
   ]
  },
  {
   "cell_type": "code",
   "execution_count": 59,
   "metadata": {},
   "outputs": [],
   "source": [
    "together = together[together['clim_losses']>2]"
   ]
  },
  {
   "cell_type": "markdown",
   "metadata": {},
   "source": [
    "### Let's fit some models!"
   ]
  },
  {
   "cell_type": "markdown",
   "metadata": {},
   "source": [
    "First let's try for the non-log transformed loss data\n"
   ]
  },
  {
   "cell_type": "code",
   "execution_count": 60,
   "metadata": {},
   "outputs": [],
   "source": [
    "#We create training and test sets so we can more accurately \"score\" our model on test data. Again having such a small dataset\n",
    "# is not going to lead to very good results...\n",
    "X = together['Deg-C']\n",
    "y = together['clim_losses']\n",
    "X_train = X[0:9]\n",
    "X_test = X[9::]\n",
    "Y_train = y[0:9]\n",
    "Y_test = y[9:]"
   ]
  },
  {
   "cell_type": "code",
   "execution_count": 61,
   "metadata": {},
   "outputs": [
    {
     "data": {
      "text/plain": [
       "LinearRegression(copy_X=True, fit_intercept=True, n_jobs=None,\n",
       "         normalize=False)"
      ]
     },
     "execution_count": 61,
     "metadata": {},
     "output_type": "execute_result"
    }
   ],
   "source": [
    "regr = linear_model.LinearRegression()\n",
    "regr.fit(X_train.values.reshape(-1,1),Y_train.values.reshape(-1,1))"
   ]
  },
  {
   "cell_type": "code",
   "execution_count": 62,
   "metadata": {},
   "outputs": [],
   "source": [
    "y_pred = regr.predict(X_test.values.reshape(-1,1))"
   ]
  },
  {
   "cell_type": "code",
   "execution_count": 63,
   "metadata": {},
   "outputs": [
    {
     "name": "stdout",
     "output_type": "stream",
     "text": [
      "Coefficients: \n",
      " [[-842.00764748]]\n",
      "Mean squared error: 1834502.45\n",
      "Variance score: 0.20\n"
     ]
    },
    {
     "data": {
      "image/png": "[encoded data removed]",
      "text/plain": [
       "<Figure size 432x288 with 1 Axes>"
      ]
     },
     "metadata": {},
     "output_type": "display_data"
    }
   ],
   "source": [
    "# The coefficients\n",
    "print('Coefficients: \\n', regr.coef_)\n",
    "# The mean squared error\n",
    "print(\"Mean squared error: %.2f\"\n",
    "      % mean_squared_error(Y_test, y_pred))\n",
    "# Explained variance score: 1 is perfect prediction\n",
    "print('Variance score: %.2f' % r2_score(Y_test, y_pred))\n",
    "\n",
    "# Plot outputs\n",
    "plt.scatter(X_test, Y_test,  color='black')\n",
    "plt.plot(X_test, y_pred, color='blue', linewidth=3)\n",
    "\n",
    "plt.xticks(())\n",
    "plt.yticks(())\n",
    "\n",
    "plt.show()"
   ]
  },
  {
   "cell_type": "markdown",
   "metadata": {},
   "source": [
    "That's a pretty large MSE...\n",
    "20% R^2 for only 16 data points is not as bad as I expected however..."
   ]
  },
  {
   "cell_type": "markdown",
   "metadata": {},
   "source": [
    "Now let's try for the log transformed loss data\n"
   ]
  },
  {
   "cell_type": "code",
   "execution_count": 64,
   "metadata": {},
   "outputs": [],
   "source": [
    "X = together['Deg-C']\n",
    "y = together['log_clim_losses']\n",
    "X_train = X[0:9]\n",
    "X_test = X[9::]\n",
    "Y_train = y[0:9]\n",
    "Y_test = y[9:]"
   ]
  },
  {
   "cell_type": "code",
   "execution_count": 65,
   "metadata": {},
   "outputs": [
    {
     "data": {
      "text/plain": [
       "LinearRegression(copy_X=True, fit_intercept=True, n_jobs=None,\n",
       "         normalize=False)"
      ]
     },
     "execution_count": 65,
     "metadata": {},
     "output_type": "execute_result"
    }
   ],
   "source": [
    "regr = linear_model.LinearRegression()\n",
    "regr.fit(X_train.values.reshape(-1,1),Y_train.values.reshape(-1,1))"
   ]
  },
  {
   "cell_type": "code",
   "execution_count": 66,
   "metadata": {},
   "outputs": [],
   "source": [
    "y_pred = regr.predict(X_test.values.reshape(-1,1))"
   ]
  },
  {
   "cell_type": "code",
   "execution_count": 67,
   "metadata": {},
   "outputs": [
    {
     "name": "stdout",
     "output_type": "stream",
     "text": [
      "Coefficients: \n",
      " [[-0.7840394]]\n",
      "Mean squared error: 0.53\n",
      "Variance score: 0.20\n"
     ]
    },
    {
     "data": {
      "image/png": "[encoded data removed]",
      "text/plain": [
       "<Figure size 432x288 with 1 Axes>"
      ]
     },
     "metadata": {},
     "output_type": "display_data"
    }
   ],
   "source": [
    "# The coefficients\n",
    "print('Coefficients: \\n', regr.coef_)\n",
    "# The mean squared error\n",
    "print(\"Mean squared error: %.2f\"\n",
    "      % mean_squared_error(Y_test, y_pred))\n",
    "# Explained variance score: 1 is perfect prediction\n",
    "print('Variance score: %.2f' % r2_score(Y_test, y_pred))\n",
    "\n",
    "# Plot outputs\n",
    "plt.scatter(X_test, Y_test,  color='black')\n",
    "plt.plot(X_test, y_pred, color='blue', linewidth=3)\n",
    "\n",
    "plt.xticks(())\n",
    "plt.yticks(())\n",
    "\n",
    "plt.show()"
   ]
  },
  {
   "cell_type": "markdown",
   "metadata": {},
   "source": [
    "MSE has significantly improved, but the R^2 remained the same. \n",
    "\n",
    "Overall, I would say this model doesn't intuiatively make much sense. The negative slope implies the Economic losses will decrease the more temperate deviates from average. \n",
    "\n",
    "There are clearly other factors at play, and having such a small sample isn't help either. \n",
    "\n",
    "However this is a good exercise in creating and interpreting linear models. \n",
    "\n",
    "See if you can do better!!"
   ]
  },
  {
   "cell_type": "code",
   "execution_count": null,
   "metadata": {},
   "outputs": [],
   "source": []
  }
 ],
 "metadata": {
  "kernelspec": {
   "display_name": "Python 3",
   "language": "python",
   "name": "python3"
  },
  "language_info": {
   "codemirror_mode": {
    "name": "ipython",
    "version": 3
   },
   "file_extension": ".py",
   "mimetype": "text/x-python",
   "name": "python",
   "nbconvert_exporter": "python",
   "pygments_lexer": "ipython3",
   "version": "3.6.7"
  }
 },
 "nbformat": 4,
 "nbformat_minor": 2
}
