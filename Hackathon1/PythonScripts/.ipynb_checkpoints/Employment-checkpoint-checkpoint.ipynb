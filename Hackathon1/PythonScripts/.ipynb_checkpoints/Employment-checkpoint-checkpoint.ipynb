{
 "cells": [
  {
   "cell_type": "markdown",
   "metadata": {},
   "source": [
    "# Employment\n",
    "\n",
    "Employment rates broken down by major occupation group and gender. The data are taken from the Annual Population Survey (APS), produced by the Office for National Statistics.\n",
    "\n",
    "95% confidence intervals are included. Numbers are rounded to the nearest hundred.\n",
    "18/03/2015 Data has been reweighted in line with the latest ONS estimates.\n",
    "\n",
    "Includes Major Occupation groups: 1: managers and senior officials 2: professional occupations 3: associate prof & tech occupations 4: administrative and secretarial occupations 5: skilled trades occupations 6: personal service occupations 7: sales and customer service occupations 8: process, plant and machine operatives 9: elementary occupations\n",
    "\n"
   ]
  },
  {
   "cell_type": "code",
   "execution_count": 1,
   "metadata": {},
   "outputs": [],
   "source": [
    "# Usual imports that are needed for most analysis\n",
    "import numpy as np # linear algebra\n",
    "import pandas as pd # data processing, CSV file I/O (e.g. pd.read_csv)\n",
    "from datetime import datetime\n",
    "import io\n",
    "import requests\n"
   ]
  },
  {
   "cell_type": "code",
   "execution_count": 2,
   "metadata": {},
   "outputs": [],
   "source": [
    "xls = pd.ExcelFile('employment-by-occ-and-gender.xls')\n",
    "years = range(2004,2018)\n",
    "df1 = pd.read_excel(xls, '2004')\n",
    "df2 = pd.read_excel(xls, '2005')"
   ]
  },
  {
   "cell_type": "code",
   "execution_count": 3,
   "metadata": {},
   "outputs": [],
   "source": [
    "df1.head()\n",
    "year = '2004'"
   ]
  },
  {
   "cell_type": "code",
   "execution_count": 4,
   "metadata": {},
   "outputs": [],
   "source": [
    "frames = []\n",
    "for year in years:\n",
    "    if year == 2014:\n",
    "        continue\n",
    "    df1 = pd.read_excel(xls, str(year))\n",
    "    f = df1[df1.columns.drop(list(df1.filter(regex='Unnamed:')))]\n",
    "    f = f.dropna()\n",
    "    f = f.drop(f.index[0])\n",
    "    f = f.drop(f.index[0])\n",
    "    f['year']= year\n",
    "    f['Borough']= f.index\n",
    "    f['Borough'] = f['Borough'].apply(lambda x: x[1])\n",
    "    f = f[~f['Borough'].isin(['London', 'West Midlands', 'Inner London','Outer London','North East','North West','Yorkshire and The Humber','East Midlands','East'\n",
    "    ,'South East','South West','Wales','Scotland','Northern Ireland','England','England and Wales','Great Britain','United Kingdom' ])]\n",
    "    frames.append(f)\n",
    "result = pd.concat(frames)"
   ]
  },
  {
   "cell_type": "code",
   "execution_count": 5,
   "metadata": {},
   "outputs": [
    {
     "name": "stderr",
     "output_type": "stream",
     "text": [
      "/anaconda3/lib/python3.7/site-packages/ipykernel_launcher.py:5: SettingWithCopyWarning: \n",
      "A value is trying to be set on a copy of a slice from a DataFrame.\n",
      "Try using .loc[row_indexer,col_indexer] = value instead\n",
      "\n",
      "See the caveats in the documentation: http://pandas.pydata.org/pandas-docs/stable/indexing.html#indexing-view-versus-copy\n",
      "  \"\"\"\n"
     ]
    }
   ],
   "source": [
    "# Add gender as a column\n",
    "male =result.iloc[:, [0,1,2,3,4,5,6,7,8,18,19]]\n",
    "female = result.iloc[:,9:]\n",
    "female['gender']='female'\n",
    "male['gender']='male'\n",
    "male.columns = male.columns.str.replace('% males in employment who are -', '')\n",
    "female.columns = female.columns.str.replace('% females in employment who are -', '')\n",
    "result = pd.concat([male, female])"
   ]
  },
  {
   "cell_type": "code",
   "execution_count": 6,
   "metadata": {},
   "outputs": [],
   "source": [
    "result.to_csv('employment.csv', sep=',', index=False)"
   ]
  },
  {
   "cell_type": "code",
   "execution_count": null,
   "metadata": {},
   "outputs": [],
   "source": []
  }
 ],
 "metadata": {
  "kernelspec": {
   "display_name": "Python 3",
   "language": "python",
   "name": "python3"
  },
  "language_info": {
   "codemirror_mode": {
    "name": "ipython",
    "version": 3
   },
   "file_extension": ".py",
   "mimetype": "text/x-python",
   "name": "python",
   "nbconvert_exporter": "python",
   "pygments_lexer": "ipython3",
   "version": "3.7.0"
  }
 },
 "nbformat": 4,
 "nbformat_minor": 2
}
