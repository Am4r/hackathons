{
 "cells": [
  {
   "cell_type": "markdown",
   "metadata": {},
   "source": [
    "# Hackathon 1: 5 Dec\n",
    "\n",
    "# Welcome to the London Open Data Hackathon!\n",
    "\n",
    "## This document should be everything you need for today's session :D\n",
    "\n",
    "Slack Channel (for prizes): \n",
    "\n",
    "Join the hackathon slack channel here: [Slack link](https://join.slack.com/t/counthackathons/shared_invite/enQtNDg5MTI2NzM0NzI0LTIyOTI0ZmUwOTY3M2Q1MmUwYjEzYjRkNzMxNTkzNTM1YTUyNzgxY2I5YzU0ZGI4YTAxYjYxOWNhNzU1NTE1Yzk)\n",
    "\n",
    "# The Task 👨‍💻:\n",
    "\n",
    "- Work in groups, or individually, to come up with interesting, opportunistic, or amusing findings using the data we've provided, or data you find on your own\n",
    "- When you have something you want to share, share the link or image so others can see what you've found\n",
    "- If you see a visual you like, please show it some love on Slack with a 👍😍👏⭐️ or something similar. This is how we decide who gets the prizes!\n",
    "- At the end, we'll give anyone a chance to share parts of their analysis, and their findings (last chance to get votes)\n",
    "- Lastly, we'll announce the winners!\n",
    "\n",
    "# The Topics 🇬🇧: \n",
    "- The next \"big\" Borough: Find out where you should be investing\n",
    "- A Clean Commute: A look at transportation and enviromental data to find the cleanest way to commute to work\n",
    "- The London Economy: A deep dive into the London economy past and future. Try to find how your industry is trending\n",
    "- Have something else you want to explore? Feel free to work on your own, or if you're up for it, start your own team!\n",
    "\n",
    "# The Rules 👩‍🏫:\n",
    "\n",
    "- If you use data you've found, please make sure it's allowed to be shared with others\n",
    "- Use any platform you want (Python, Excel, Fortran, etc.)!\n",
    "- Please don't up-vote your own post...\n",
    "\n",
    "# The Data 📈:\n",
    "\n",
    "The data is housed in a few locations. Each one has all of the data, so pick whichever you prefer: \n",
    "\n",
    "1. [https://play.count.co/admin/tables](https://play.count.co/admin/tables)\n",
    "2. Python starter scripts: [Binder](https://mybinder.org/v2/gh/count/hackathons/master)\n",
    "3. WeTransfer link: [Download link](https://wetransfer.com/downloads/6f900f0344a79dd64e407379ed6b5f8320181205105007/218ef02f066f5bead4e36a93deba655b20181205105007/2ba39c)\n",
    "\n",
    "Datasources: \n",
    "\n",
    "- [https://data.london.gov.uk/dataset](https://data.london.gov.uk/dataset)\n",
    "- [https://www.metaweather.com/api/](https://www.metaweather.com/api/)\n",
    "\n",
    "# The Prizes 🏆:\n",
    "\n",
    "- People's Choice: Most votes from the Slack Channel\n",
    "- Host's Choice: The Count team's favourite visual\n",
    "\n",
    "---\n",
    "\n",
    "# The Ask ❓:\n",
    "\n",
    "This is our first meet-up, so we would love to get your feedback (good and bad). If you wouldn't mind, could you fill out a survey here: [https://www.surveymonkey.co.uk/r/VFCRCK7](https://www.surveymonkey.co.uk/r/VFCRCK7)\n",
    "\n",
    "Join our Slack channel where we regularly post datasets we find and the latest news about Count:\n",
    "[Slack Link](https://join.slack.com/t/countcommunity/shared_invite/enQtNDk1Mzc1MjcwODUyLTNmODYzNGMzODdmNzUzZjU0MTAwYWQ2OTBjZDc3ODEyZjk2ZWFlNWI3YzVmMjFiNTI2MTYxYjlhNDNjYzljN2U)\n",
    "\n"
   ]
  },
  {
   "cell_type": "code",
   "execution_count": null,
   "metadata": {},
   "outputs": [],
   "source": []
  }
 ],
 "metadata": {
  "kernelspec": {
   "display_name": "Python 3",
   "language": "python",
   "name": "python3"
  },
  "language_info": {
   "codemirror_mode": {
    "name": "ipython",
    "version": 3
   },
   "file_extension": ".py",
   "mimetype": "text/x-python",
   "name": "python",
   "nbconvert_exporter": "python",
   "pygments_lexer": "ipython3",
   "version": "3.7.0"
  }
 },
 "nbformat": 4,
 "nbformat_minor": 2
}
