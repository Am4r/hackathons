{
 "cells": [
  {
   "cell_type": "markdown",
   "metadata": {},
   "source": [
    "# Employment\n",
    "\n",
    "Employment rates broken down by major occupation group and gender. The data are taken from the Annual Population Survey (APS), produced by the Office for National Statistics.\n",
    "\n",
    "95% confidence intervals are included. Numbers are rounded to the nearest hundred.\n",
    "18/03/2015 Data has been reweighted in line with the latest ONS estimates.\n",
    "\n",
    "Includes Major Occupation groups: 1: managers and senior officials 2: professional occupations 3: associate prof & tech occupations 4: administrative and secretarial occupations 5: skilled trades occupations 6: personal service occupations 7: sales and customer service occupations 8: process, plant and machine operatives 9: elementary occupations\n",
    "\n"
   ]
  },
  {
   "cell_type": "code",
   "execution_count": 1,
   "metadata": {},
   "outputs": [],
   "source": [
    "# Usual imports that are needed for most analysis\n",
    "import numpy as np # linear algebra\n",
    "import pandas as pd # data processing, CSV file I/O (e.g. pd.read_csv)\n",
    "from datetime import datetime\n",
    "import io\n",
    "import requests\n"
   ]
  },
  {
   "cell_type": "code",
   "execution_count": 3,
   "metadata": {},
   "outputs": [],
   "source": [
    "xls = pd.ExcelFile('employment-by-occ-and-gender.xls')\n",
    "years = range(2004,2018)"
   ]
  },
  {
   "cell_type": "code",
   "execution_count": 5,
   "metadata": {},
   "outputs": [],
   "source": [
    "frames = []\n",
    "for year in years:\n",
    "    if year == 2014:\n",
    "        continue\n",
    "    df1 = pd.read_excel(xls, str(year))\n",
    "    f = df1[df1.columns.drop(list(df1.filter(regex='Unnamed:')))]\n",
    "    f = f.dropna()\n",
    "    f = f.drop(f.index[0])\n",
    "    f = f.drop(f.index[0])\n",
    "    f['year']= year\n",
    "    f['Borough']= f.index\n",
    "    f['Borough'] = f['Borough'].apply(lambda x: x[1])\n",
    "    f = f[~f['Borough'].isin(['London', 'West Midlands', 'Inner London','Outer London','North East','North West','Yorkshire and The Humber','East Midlands','East'\n",
    "    ,'South East','South West','Wales','Scotland','Northern Ireland','England','England and Wales','Great Britain','United Kingdom' ])]\n",
    "    frames.append(f)\n",
    "result = pd.concat(frames)"
   ]
  },
  {
   "cell_type": "code",
   "execution_count": 6,
   "metadata": {},
   "outputs": [
    {
     "name": "stderr",
     "output_type": "stream",
     "text": [
      "/anaconda3/lib/python3.7/site-packages/ipykernel_launcher.py:5: SettingWithCopyWarning: \n",
      "A value is trying to be set on a copy of a slice from a DataFrame.\n",
      "Try using .loc[row_indexer,col_indexer] = value instead\n",
      "\n",
      "See the caveats in the documentation: http://pandas.pydata.org/pandas-docs/stable/indexing.html#indexing-view-versus-copy\n",
      "  \"\"\"\n"
     ]
    }
   ],
   "source": [
    "# Add gender as a column\n",
    "male =result.iloc[:, [0,1,2,3,4,5,6,7,8,18,19]]\n",
    "female = result.iloc[:,9:]\n",
    "female['gender']='female'\n",
    "male['gender']='male'\n",
    "male.columns = male.columns.str.replace('% males in employment who are -', '')\n",
    "female.columns = female.columns.str.replace('% females in employment who are -', '')\n",
    "result = pd.concat([male, female])"
   ]
  },
  {
   "cell_type": "code",
   "execution_count": 10,
   "metadata": {},
   "outputs": [
    {
     "data": {
      "text/plain": [
       "Index([' 1: managers, directors and senior officials (SOC2010)',\n",
       "       ' 2: professional occupations (SOC2010)',\n",
       "       ' 3: associate prof & tech occupations (SOC2010)',\n",
       "       ' 4: administrative and secretarial occupations (SOC2010)',\n",
       "       ' 5: skilled trades occupations (SOC2010)',\n",
       "       ' 6: caring, leisure and other service occupations (SOC2010)',\n",
       "       ' 7: sales and customer service occupations (SOC2010)',\n",
       "       ' 8: process, plant and machine operatives (SOC2010)',\n",
       "       ' 9: elementary occupations (SOC2010)', 'year', 'Borough', 'gender'],\n",
       "      dtype='object')"
      ]
     },
     "execution_count": 10,
     "metadata": {},
     "output_type": "execute_result"
    }
   ],
   "source": [
    "result.columns\n"
   ]
  },
  {
   "cell_type": "code",
   "execution_count": 18,
   "metadata": {},
   "outputs": [],
   "source": [
    "# melt all types\n",
    "t = pd.melt(result, id_vars = ['year', 'Borough', 'gender'],var_name=\"Occupation type\",value_name=\"Count\")"
   ]
  },
  {
   "cell_type": "code",
   "execution_count": 19,
   "metadata": {},
   "outputs": [
    {
     "data": {
      "text/html": [
       "<div>\n",
       "<style scoped>\n",
       "    .dataframe tbody tr th:only-of-type {\n",
       "        vertical-align: middle;\n",
       "    }\n",
       "\n",
       "    .dataframe tbody tr th {\n",
       "        vertical-align: top;\n",
       "    }\n",
       "\n",
       "    .dataframe thead th {\n",
       "        text-align: right;\n",
       "    }\n",
       "</style>\n",
       "<table border=\"1\" class=\"dataframe\">\n",
       "  <thead>\n",
       "    <tr style=\"text-align: right;\">\n",
       "      <th></th>\n",
       "      <th>year</th>\n",
       "      <th>Borough</th>\n",
       "      <th>gender</th>\n",
       "      <th>Occupation type</th>\n",
       "      <th>Count</th>\n",
       "    </tr>\n",
       "  </thead>\n",
       "  <tbody>\n",
       "    <tr>\n",
       "      <th>0</th>\n",
       "      <td>2004</td>\n",
       "      <td>Barking and Dagenham</td>\n",
       "      <td>male</td>\n",
       "      <td>1: managers, directors and senior officials (...</td>\n",
       "      <td>3300</td>\n",
       "    </tr>\n",
       "    <tr>\n",
       "      <th>1</th>\n",
       "      <td>2004</td>\n",
       "      <td>Barnet</td>\n",
       "      <td>male</td>\n",
       "      <td>1: managers, directors and senior officials (...</td>\n",
       "      <td>13700</td>\n",
       "    </tr>\n",
       "    <tr>\n",
       "      <th>2</th>\n",
       "      <td>2004</td>\n",
       "      <td>Bexley</td>\n",
       "      <td>male</td>\n",
       "      <td>1: managers, directors and senior officials (...</td>\n",
       "      <td>6200</td>\n",
       "    </tr>\n",
       "    <tr>\n",
       "      <th>3</th>\n",
       "      <td>2004</td>\n",
       "      <td>Brent</td>\n",
       "      <td>male</td>\n",
       "      <td>1: managers, directors and senior officials (...</td>\n",
       "      <td>8800</td>\n",
       "    </tr>\n",
       "    <tr>\n",
       "      <th>4</th>\n",
       "      <td>2004</td>\n",
       "      <td>Bromley</td>\n",
       "      <td>male</td>\n",
       "      <td>1: managers, directors and senior officials (...</td>\n",
       "      <td>13800</td>\n",
       "    </tr>\n",
       "  </tbody>\n",
       "</table>\n",
       "</div>"
      ],
      "text/plain": [
       "   year               Borough gender  \\\n",
       "0  2004  Barking and Dagenham   male   \n",
       "1  2004                Barnet   male   \n",
       "2  2004                Bexley   male   \n",
       "3  2004                 Brent   male   \n",
       "4  2004               Bromley   male   \n",
       "\n",
       "                                     Occupation type  Count  \n",
       "0   1: managers, directors and senior officials (...   3300  \n",
       "1   1: managers, directors and senior officials (...  13700  \n",
       "2   1: managers, directors and senior officials (...   6200  \n",
       "3   1: managers, directors and senior officials (...   8800  \n",
       "4   1: managers, directors and senior officials (...  13800  "
      ]
     },
     "execution_count": 19,
     "metadata": {},
     "output_type": "execute_result"
    }
   ],
   "source": [
    "t.head()"
   ]
  },
  {
   "cell_type": "code",
   "execution_count": 21,
   "metadata": {},
   "outputs": [],
   "source": [
    "t.to_csv('employment-by-occ-and-gender(melted).csv', sep=',', index=False)"
   ]
  },
  {
   "cell_type": "code",
   "execution_count": null,
   "metadata": {},
   "outputs": [],
   "source": []
  },
  {
   "cell_type": "code",
   "execution_count": null,
   "metadata": {},
   "outputs": [],
   "source": []
  }
 ],
 "metadata": {
  "kernelspec": {
   "display_name": "Python 3",
   "language": "python",
   "name": "python3"
  },
  "language_info": {
   "codemirror_mode": {
    "name": "ipython",
    "version": 3
   },
   "file_extension": ".py",
   "mimetype": "text/x-python",
   "name": "python",
   "nbconvert_exporter": "python",
   "pygments_lexer": "ipython3",
   "version": "3.7.0"
  }
 },
 "nbformat": 4,
 "nbformat_minor": 2
}
