{
 "cells": [
  {
   "cell_type": "markdown",
   "metadata": {},
   "source": [
    "## Merging two dataframes\n",
    "\n",
    "Here we do a simple merge between two dataframes concerning tube stations. The two files look like:\n",
    "\n",
    "`stations.csv`\n",
    "```\n",
    "Latitude,Longitude,Station Name\n",
    "51.5028,-0.2801,\"Acton Town\"\n",
    "51.5143,-0.0755,\"Aldgate\"\n",
    "51.5154,-0.0726,\"Aldgate East\"\n",
    "51.5107,-0.013,\"All Saints\"\n",
    "51.5407,-0.2997,\"Alperton\"\n",
    "51.5322,-0.1058,\"Angel\"\n",
    "```\n",
    "\n",
    "`Station Stats.csv`\n",
    "\n",
    "```\n",
    "Year,Station,Entry-Weekday,Entry-Sat,Entry-Sun,Exit-Weekday,Exit-Sat,Exit-Sun,Entry & Exit-Annual\n",
    "2007,Acton Town                         ,9205,6722,4427,8899,6320,4304,359.73\n",
    "2007,Aldgate                            ,9887,2191,1484,10397,2587,1772,302.88\n",
    "2007,Aldgate East                       ,12820,7040,5505,12271,6220,5000,458.48\n",
    "2007,Alperton                           ,4611,3354,2433,4719,3450,2503,188.00\n",
    "```\n",
    "\n",
    "In this notebook we shall\n",
    "1. Import the two `.csv` files\n",
    "2. Clean up the extra spaces in `Station Stats.csv`\n",
    "3. Merge the dataframes\n",
    "4. Upload the merged dataframe to Count"
   ]
  },
  {
   "cell_type": "markdown",
   "metadata": {},
   "source": [
    "### Imports and definitions"
   ]
  },
  {
   "cell_type": "code",
   "execution_count": 36,
   "metadata": {},
   "outputs": [],
   "source": [
    "import pandas as pd\n",
    "from count_api import CountAPI\n",
    "\n",
    "# Set this to the local path of the GitHub repository\n",
    "data_dir = '/path/to/open-data-scripts/december-2018-hackathon/'\n",
    "token = ''"
   ]
  },
  {
   "cell_type": "markdown",
   "metadata": {},
   "source": [
    "### 1. Importing the data"
   ]
  },
  {
   "cell_type": "code",
   "execution_count": 4,
   "metadata": {},
   "outputs": [],
   "source": [
    "station_locations = pd.read_csv(data_dir + 'Transportation/TubeStations/stations.csv')\n",
    "station_entry_stats = pd.read_csv(data_dir + 'Transportation/TubeStations/Station Stats.csv')"
   ]
  },
  {
   "cell_type": "code",
   "execution_count": 8,
   "metadata": {},
   "outputs": [
    {
     "name": "stdout",
     "output_type": "stream",
     "text": [
      "   Latitude  Longitude  Station Name\n",
      "0   51.5028    -0.2801    Acton Town\n",
      "1   51.5143    -0.0755       Aldgate\n",
      "2   51.5154    -0.0726  Aldgate East\n",
      "3   51.5107    -0.0130    All Saints\n",
      "4   51.5407    -0.2997      Alperton\n"
     ]
    }
   ],
   "source": [
    "print(station_locations.head(5))"
   ]
  },
  {
   "cell_type": "code",
   "execution_count": 9,
   "metadata": {},
   "outputs": [
    {
     "name": "stdout",
     "output_type": "stream",
     "text": [
      "   Year                              Station  Entry-Weekday  Entry-Sat  \\\n",
      "0  2007  Acton Town                                    9205       6722   \n",
      "1  2007  Aldgate                                       9887       2191   \n",
      "2  2007  Aldgate East                                 12820       7040   \n",
      "3  2007  Alperton                                      4611       3354   \n",
      "4  2007  Amersham                                      4182       1709   \n",
      "\n",
      "   Entry-Sun  Exit-Weekday  Exit-Sat  Exit-Sun  Entry & Exit-Annual  \n",
      "0       4427        8899.0      6320      4304               359.73  \n",
      "1       1484       10397.0      2587      1772               302.88  \n",
      "2       5505       12271.0      6220      5000               458.48  \n",
      "3       2433        4719.0      3450      2503               188.00  \n",
      "4       1004        3938.0      1585       957               134.14  \n"
     ]
    }
   ],
   "source": [
    "print(station_entry_stats.head(5))"
   ]
  },
  {
   "cell_type": "markdown",
   "metadata": {},
   "source": [
    "## 2. Cleaning the data\n",
    "\n",
    "You'll note above that the `Station` column in `station_entry_stats` has a load of whitespace on the right-hand-side. We'll want to compare station names in the next step, and this will mess things up. Here we'll use the inbuilt python function `strip()` to remove this unnecessary whitespace.\n",
    "\n",
    "We use the `apply(func)` method on a dataframe column, where `func` is a function to apply to each element in the column. For the case where `func` is very simple (a single statement), we can use an inline [lambda](https://docs.python.org/3.5/tutorial/controlflow.html#lambda-expressions) function to save precious keystrokes:"
   ]
  },
  {
   "cell_type": "code",
   "execution_count": 12,
   "metadata": {},
   "outputs": [
    {
     "name": "stdout",
     "output_type": "stream",
     "text": [
      "   Year       Station  Entry-Weekday  Entry-Sat  Entry-Sun  Exit-Weekday  \\\n",
      "0  2007    Acton Town           9205       6722       4427        8899.0   \n",
      "1  2007       Aldgate           9887       2191       1484       10397.0   \n",
      "2  2007  Aldgate East          12820       7040       5505       12271.0   \n",
      "3  2007      Alperton           4611       3354       2433        4719.0   \n",
      "4  2007      Amersham           4182       1709       1004        3938.0   \n",
      "\n",
      "   Exit-Sat  Exit-Sun  Entry & Exit-Annual  \n",
      "0      6320      4304               359.73  \n",
      "1      2587      1772               302.88  \n",
      "2      6220      5000               458.48  \n",
      "3      3450      2503               188.00  \n",
      "4      1585       957               134.14  \n"
     ]
    }
   ],
   "source": [
    "station_entry_stats['Station'] = station_entry_stats['Station'].apply(lambda x: x.strip())\n",
    "print(station_entry_stats.head(5))"
   ]
  },
  {
   "cell_type": "markdown",
   "metadata": {},
   "source": [
    "## 3. Merging the dataframes\n",
    "\n",
    "Now that the station names in each dataframe are the same, we are ready to perform the merge. In the following line, we select the two dataframes (`left` and `right`), the columns to merge on (`left_on` and `right_on`), and then delete a column with duplicate information (`Station Name`).\n",
    "\n",
    "Finally, we save the dataframe to a CSV file, `merged.csv`. (Setting `index=False` just means we don't save the row numbers)"
   ]
  },
  {
   "cell_type": "code",
   "execution_count": 16,
   "metadata": {},
   "outputs": [
    {
     "name": "stdout",
     "output_type": "stream",
     "text": [
      "   Latitude  Longitude  Year     Station  Entry-Weekday  Entry-Sat  Entry-Sun  \\\n",
      "0   51.5028    -0.2801  2007  Acton Town           9205       6722       4427   \n",
      "1   51.5028    -0.2801  2008  Acton Town           9285       6574       4358   \n",
      "2   51.5028    -0.2801  2009  Acton Town           8601       5816       4231   \n",
      "3   51.5028    -0.2801  2010  Acton Town           8669       5912       4184   \n",
      "4   51.5028    -0.2801  2011  Acton Town           8702       6326       4216   \n",
      "\n",
      "   Exit-Weekday  Exit-Sat  Exit-Sun  Entry & Exit-Annual  \n",
      "0        8899.0      6320      4304               359.73  \n",
      "1        9028.0      6295      4361               361.05  \n",
      "2        8595.0      5803      4324               337.69  \n",
      "3        8403.0      5877      4224               336.58  \n",
      "4        8392.0      5976      4223               340.57  \n"
     ]
    }
   ],
   "source": [
    "station_merged = pd.merge(left=station_locations, right=station_entry_stats, left_on='Station Name', right_on='Station').drop('Station Name', axis=1)\n",
    "print(station_merged.sort_values(by='Station').head(5))"
   ]
  },
  {
   "cell_type": "code",
   "execution_count": 17,
   "metadata": {},
   "outputs": [],
   "source": [
    "station_merged.to_csv('merged.csv', index=False)"
   ]
  },
  {
   "cell_type": "markdown",
   "metadata": {},
   "source": [
    "## 4. Uploading to Count\n",
    "\n",
    "The fun bit! Import the Count API module, and initialise it with your access token, then upload the file saved in step 3:"
   ]
  },
  {
   "cell_type": "code",
   "execution_count": 15,
   "metadata": {},
   "outputs": [],
   "source": [
    "count = CountAPI()\n",
    "count.set_api_token(token)\n",
    "table = count.upload(path='./merged.csv')"
   ]
  },
  {
   "cell_type": "markdown",
   "metadata": {},
   "source": [
    "Finally, with the table uploaded, create an interactive plot of stations by location, coloured by the number of passengers entering each one during weekdays. Click on the Count logo to explore the data further, or modify the plot."
   ]
  },
  {
   "cell_type": "code",
   "execution_count": 35,
   "metadata": {},
   "outputs": [
    {
     "data": {
      "text/html": [
       "\n",
       "        <iframe\n",
       "            width=\"1000\"\n",
       "            height=\"1000\"\n",
       "            src=\"https://count.co/embed/HZT1RQqYVD1?v=2d1UfAQZokK&view=visual&x_type=linear&y_type=linear&color_type=log&x=0&y=1&color=2\"\n",
       "            frameborder=\"0\"\n",
       "            allowfullscreen\n",
       "        ></iframe>\n",
       "        "
      ],
      "text/plain": [
       "<count_api.visual.visual.IFrame at 0x115013630>"
      ]
     },
     "execution_count": 35,
     "metadata": {},
     "output_type": "execute_result"
    }
   ],
   "source": [
    "visual = table.upload_visual(x=table['Longitude'], y=table['Latitude'], color=table['Entry-Weekday'], chart_options={'color_type': 'log'})\n",
    "visual.embed()"
   ]
  }
 ],
 "metadata": {
  "kernelspec": {
   "display_name": "Python 3",
   "language": "python",
   "name": "python3"
  },
  "language_info": {
   "codemirror_mode": {
    "name": "ipython",
    "version": 3
   },
   "file_extension": ".py",
   "mimetype": "text/x-python",
   "name": "python",
   "nbconvert_exporter": "python",
   "pygments_lexer": "ipython3",
   "version": "3.6.3"
  }
 },
 "nbformat": 4,
 "nbformat_minor": 2
}
