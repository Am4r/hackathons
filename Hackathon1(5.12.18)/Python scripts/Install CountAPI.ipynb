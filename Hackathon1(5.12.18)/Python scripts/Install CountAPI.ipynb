{
 "cells": [
  {
   "cell_type": "code",
   "execution_count": null,
   "metadata": {},
   "outputs": [],
   "source": [
    "import sys\n",
    "from subprocess import call\n",
    "python_path = sys.executable\n",
    "result = call([python_path, '-m', 'pip', 'install',  'count_api'])\n",
    "if result == 0:\n",
    "    print('Count API successfully installed')\n",
    "else:\n",
    "    print('Error - check your shell')"
   ]
  }
 ],
 "metadata": {
  "kernelspec": {
   "display_name": "Python 3",
   "language": "python",
   "name": "python3"
  },
  "language_info": {
   "name": ""
  }
 },
 "nbformat": 4,
 "nbformat_minor": 2
}
